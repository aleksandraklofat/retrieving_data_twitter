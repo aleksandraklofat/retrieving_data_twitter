{
 "cells": [
  {
   "cell_type": "code",
   "execution_count": 1,
   "metadata": {},
   "outputs": [],
   "source": [
    "import re #regular expression (RegEx)\n",
    "import tweepy #working with twitter \n",
    "\n",
    "import pandas as pd\n",
    "\n",
    "#from tweepy import OAuthHandler\n",
    "#from tweepy import API"
   ]
  },
  {
   "cell_type": "markdown",
   "metadata": {},
   "source": [
    "## Authentication"
   ]
  },
  {
   "cell_type": "code",
   "execution_count": 2,
   "metadata": {},
   "outputs": [],
   "source": [
    "# Twitter Login Data\n",
    "CONSUMER_KEY = \"\"\n",
    "CONSUMER_SECRET = \"\"\n",
    "OAUTH_TOKEN = \"-\"\n",
    "OAUTH_TOKEN_SECRET = \"\""
   ]
  },
  {
   "cell_type": "code",
   "execution_count": 3,
   "metadata": {},
   "outputs": [
    {
     "name": "stdout",
     "output_type": "stream",
     "text": [
      "<tweepy.api.API object at 0x000002302BB95D88>\n"
     ]
    }
   ],
   "source": [
    "# Authentication + API Check\n",
    "auth = tweepy.OAuthHandler(CONSUMER_KEY, CONSUMER_SECRET)\n",
    "auth.set_access_token(OAUTH_TOKEN, OAUTH_TOKEN_SECRET)\n",
    "\n",
    "twitter_api = tweepy.API(auth, wait_on_rate_limit=True)\n",
    "\n",
    "print(twitter_api)"
   ]
  },
  {
   "cell_type": "markdown",
   "metadata": {},
   "source": [
    "## Fetching the data"
   ]
  },
  {
   "cell_type": "markdown",
   "metadata": {},
   "source": [
    "### Batch processing"
   ]
  },
  {
   "cell_type": "code",
   "execution_count": 21,
   "metadata": {},
   "outputs": [
    {
     "name": "stdout",
     "output_type": "stream",
     "text": [
      "Empty DataFrame\n",
      "Columns: [User, ID, Date, Tweet]\n",
      "Index: []\n"
     ]
    }
   ],
   "source": [
    "#Creating DataFrame for the data\n",
    "df = pd.DataFrame(columns=[\"User\",\"ID\",\"Date\",\"Tweet\"])\n",
    "print(df)"
   ]
  },
  {
   "cell_type": "code",
   "execution_count": 22,
   "metadata": {},
   "outputs": [],
   "source": [
    "def get_tweets(Count):    \n",
    "    i=0\n",
    "    for tweet in tweepy.Cursor(twitter_api.search, q=\"Scholz -filter:retweets\", count=50, lang=\"de\").items():\n",
    "        print(i,end='\\r')\n",
    "        df.loc[i,\"User\"] = tweet.user.name\n",
    "        df.loc[i,\"ID\"] = tweet.id\n",
    "        df.loc[i,\"Date\"] = tweet.created_at        \n",
    "        df.loc[i,\"Tweet\"] = tweet.text\n",
    "        \n",
    "        #df.to_csv(\"TweetDataset.csv\",index=False)\n",
    "        #df.to_excel('{}.xlsx'.format(\"TweetDataset\"),index=False)   \n",
    "        i=i+1\n",
    "        if i>Count:\n",
    "            break\n",
    "        else:\n",
    "            pass"
   ]
  },
  {
   "cell_type": "code",
   "execution_count": 23,
   "metadata": {},
   "outputs": [
    {
     "name": "stdout",
     "output_type": "stream",
     "text": [
      "0\r",
      "1\r",
      "2\r",
      "3\r",
      "4\r",
      "5\r",
      "6\r",
      "7\r",
      "8\r",
      "9\r",
      "10\r",
      "11\r",
      "12\r",
      "13\r",
      "14\r",
      "15\r",
      "16\r",
      "17\r",
      "18\r",
      "19\r",
      "20\r"
     ]
    }
   ],
   "source": [
    "get_tweets(Count=20)"
   ]
  },
  {
   "cell_type": "code",
   "execution_count": 24,
   "metadata": {},
   "outputs": [
    {
     "data": {
      "text/html": [
       "<div>\n",
       "<style scoped>\n",
       "    .dataframe tbody tr th:only-of-type {\n",
       "        vertical-align: middle;\n",
       "    }\n",
       "\n",
       "    .dataframe tbody tr th {\n",
       "        vertical-align: top;\n",
       "    }\n",
       "\n",
       "    .dataframe thead th {\n",
       "        text-align: right;\n",
       "    }\n",
       "</style>\n",
       "<table border=\"1\" class=\"dataframe\">\n",
       "  <thead>\n",
       "    <tr style=\"text-align: right;\">\n",
       "      <th></th>\n",
       "      <th>User</th>\n",
       "      <th>ID</th>\n",
       "      <th>Date</th>\n",
       "      <th>Tweet</th>\n",
       "    </tr>\n",
       "  </thead>\n",
       "  <tbody>\n",
       "    <tr>\n",
       "      <th>0</th>\n",
       "      <td>The Christview - In Newnachtsstimmung</td>\n",
       "      <td>1478307617982320644</td>\n",
       "      <td>2022-01-04 10:09:36</td>\n",
       "      <td>Olaf Scholz       🤝        Donald Trump https:...</td>\n",
       "    </tr>\n",
       "    <tr>\n",
       "      <th>1</th>\n",
       "      <td>Δ◻︎❍︎ Frontman 💉💉💉 ✪</td>\n",
       "      <td>1478307229405261824</td>\n",
       "      <td>2022-01-04 10:08:03</td>\n",
       "      <td>@diktator Danke, Scholz!</td>\n",
       "    </tr>\n",
       "    <tr>\n",
       "      <th>2</th>\n",
       "      <td>🦉 Tziporah tweets | צִפּוֹרָה מצייצת‎ 🦉</td>\n",
       "      <td>1478307198107365376</td>\n",
       "      <td>2022-01-04 10:07:56</td>\n",
       "      <td>@spdbt Um Cem #Özdemir (a. d. #BMEL) \"rauszusc...</td>\n",
       "    </tr>\n",
       "    <tr>\n",
       "      <th>3</th>\n",
       "      <td>Alex Kettenbach</td>\n",
       "      <td>1478306925276274690</td>\n",
       "      <td>2022-01-04 10:06:51</td>\n",
       "      <td>https://t.co/50FptZMA0e Danke @ntvde für diese...</td>\n",
       "    </tr>\n",
       "    <tr>\n",
       "      <th>4</th>\n",
       "      <td>ja_zur_Atomkraft/ja_zur_B64n</td>\n",
       "      <td>1478306633033916416</td>\n",
       "      <td>2022-01-04 10:05:41</td>\n",
       "      <td>@Luisamneubauer Und was kann Scholz dafür?</td>\n",
       "    </tr>\n",
       "    <tr>\n",
       "      <th>5</th>\n",
       "      <td>Rebekka Scholz 🔴🔴 #LeaveNoOneBehind 🔴 🔴</td>\n",
       "      <td>1478306324198866945</td>\n",
       "      <td>2022-01-04 10:04:27</td>\n",
       "      <td>@ChristianFuchs_ @PaulMiddelhoff @Sammy_Khamis...</td>\n",
       "    </tr>\n",
       "    <tr>\n",
       "      <th>6</th>\n",
       "      <td>Ali Utlu 🏳️‍🌈</td>\n",
       "      <td>1478306209883164673</td>\n",
       "      <td>2022-01-04 10:04:00</td>\n",
       "      <td>Bin kein Fan von Olaf Scholz, aber ihn dafür n...</td>\n",
       "    </tr>\n",
       "    <tr>\n",
       "      <th>7</th>\n",
       "      <td>MA</td>\n",
       "      <td>1478306108481552384</td>\n",
       "      <td>2022-01-04 10:03:36</td>\n",
       "      <td>@AMFChina Scholz folgt Merkel’s Linie - erst k...</td>\n",
       "    </tr>\n",
       "  </tbody>\n",
       "</table>\n",
       "</div>"
      ],
      "text/plain": [
       "                                      User                   ID  \\\n",
       "0    The Christview - In Newnachtsstimmung  1478307617982320644   \n",
       "1                     Δ◻︎❍︎ Frontman 💉💉💉 ✪  1478307229405261824   \n",
       "2  🦉 Tziporah tweets | צִפּוֹרָה מצייצת‎ 🦉  1478307198107365376   \n",
       "3                          Alex Kettenbach  1478306925276274690   \n",
       "4             ja_zur_Atomkraft/ja_zur_B64n  1478306633033916416   \n",
       "5  Rebekka Scholz 🔴🔴 #LeaveNoOneBehind 🔴 🔴  1478306324198866945   \n",
       "6                            Ali Utlu 🏳️‍🌈  1478306209883164673   \n",
       "7                                       MA  1478306108481552384   \n",
       "\n",
       "                  Date                                              Tweet  \n",
       "0  2022-01-04 10:09:36  Olaf Scholz       🤝        Donald Trump https:...  \n",
       "1  2022-01-04 10:08:03                           @diktator Danke, Scholz!  \n",
       "2  2022-01-04 10:07:56  @spdbt Um Cem #Özdemir (a. d. #BMEL) \"rauszusc...  \n",
       "3  2022-01-04 10:06:51  https://t.co/50FptZMA0e Danke @ntvde für diese...  \n",
       "4  2022-01-04 10:05:41         @Luisamneubauer Und was kann Scholz dafür?  \n",
       "5  2022-01-04 10:04:27  @ChristianFuchs_ @PaulMiddelhoff @Sammy_Khamis...  \n",
       "6  2022-01-04 10:04:00  Bin kein Fan von Olaf Scholz, aber ihn dafür n...  \n",
       "7  2022-01-04 10:03:36  @AMFChina Scholz folgt Merkel’s Linie - erst k...  "
      ]
     },
     "execution_count": 24,
     "metadata": {},
     "output_type": "execute_result"
    }
   ],
   "source": [
    "df.head(8)"
   ]
  },
  {
   "cell_type": "code",
   "execution_count": null,
   "metadata": {},
   "outputs": [],
   "source": []
  },
  {
   "cell_type": "code",
   "execution_count": null,
   "metadata": {},
   "outputs": [],
   "source": []
  },
  {
   "cell_type": "code",
   "execution_count": null,
   "metadata": {},
   "outputs": [],
   "source": []
  }
 ],
 "metadata": {
  "kernelspec": {
   "display_name": "Python 3",
   "language": "python",
   "name": "python3"
  },
  "language_info": {
   "codemirror_mode": {
    "name": "ipython",
    "version": 3
   },
   "file_extension": ".py",
   "mimetype": "text/x-python",
   "name": "python",
   "nbconvert_exporter": "python",
   "pygments_lexer": "ipython3",
   "version": "3.7.6"
  }
 },
 "nbformat": 4,
 "nbformat_minor": 4
}
